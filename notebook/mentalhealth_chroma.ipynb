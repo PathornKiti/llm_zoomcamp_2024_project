{
  "cells": [
    {
      "cell_type": "code",
      "execution_count": 2,
      "metadata": {
        "colab": {
          "base_uri": "https://localhost:8080/"
        },
        "id": "UgXXMOQAxMcM",
        "outputId": "0d651ba6-d6c7-4c8e-cef5-d8ec566f7d48"
      },
      "outputs": [
        {
          "name": "stderr",
          "output_type": "stream",
          "text": [
            "USER_AGENT environment variable not set, consider setting it to identify your requests.\n"
          ]
        }
      ],
      "source": [
        "from langchain.document_loaders import AsyncChromiumLoader\n",
        "from langchain.document_transformers import Html2TextTransformer\n",
        "from langchain.text_splitter import RecursiveCharacterTextSplitter\n",
        "from langchain_community.document_loaders import PlaywrightURLLoader\n",
        "from langchain_community.document_loaders import SeleniumURLLoader\n",
        "from langchain_community.document_loaders import WebBaseLoader\n",
        "from bs4 import BeautifulSoup\n",
        "from tqdm import tqdm\n",
        "from urllib.parse import urlparse\n",
        "import re\n",
        "import pandas as pd"
      ]
    },
    {
      "cell_type": "code",
      "execution_count": 3,
      "metadata": {
        "id": "0YB5Ua5ZxQ9A"
      },
      "outputs": [],
      "source": [
        "async def get_blog_urls(base_url:str):\n",
        "  loader=AsyncChromiumLoader([base_url])\n",
        "  transform=Html2TextTransformer()\n",
        "  docs=await loader.aload()\n",
        "  html_content = docs[0].page_content\n",
        "  return html_content"
      ]
    },
    {
      "cell_type": "markdown",
      "metadata": {
        "id": "h2KLnW3504H4"
      },
      "source": [
        "#### Run within notebook"
      ]
    },
    {
      "cell_type": "code",
      "execution_count": null,
      "metadata": {
        "colab": {
          "base_uri": "https://localhost:8080/"
        },
        "id": "CRhWMrdvy0Jh",
        "outputId": "02bb6c8f-f9d1-4416-cd15-1db5e66d42e0"
      },
      "outputs": [
        {
          "name": "stderr",
          "output_type": "stream",
          "text": [
            "WARNING:langchain_community.utils.user_agent:USER_AGENT environment variable not set, consider setting it to identify your requests.\n"
          ]
        }
      ],
      "source": [
        "base_url = \"https://www.mind.org.uk/information-support/types-of-mental-health-problems/\"\n",
        "docs = await get_blog_urls(base_url)"
      ]
    },
    {
      "cell_type": "markdown",
      "metadata": {
        "id": "BSHN9qk_07QZ"
      },
      "source": [
        "#### Run outside notebook"
      ]
    },
    {
      "cell_type": "code",
      "execution_count": null,
      "metadata": {
        "id": "y87jLR17083x"
      },
      "outputs": [],
      "source": [
        "import asyncio\n",
        "base_url = \"https://www.mind.org.uk/information-support/types-of-mental-health-problems/\"\n",
        "docs = asyncio.run(get_blog_urls(base_url))"
      ]
    },
    {
      "cell_type": "markdown",
      "metadata": {
        "id": "sHe2xmIil2g2"
      },
      "source": [
        "## Mental Issue"
      ]
    },
    {
      "cell_type": "code",
      "execution_count": null,
      "metadata": {
        "colab": {
          "base_uri": "https://localhost:8080/"
        },
        "id": "SaowRY6gVwcn",
        "outputId": "da067a3b-a901-4ced-f7ae-bef865dfb425"
      },
      "outputs": [
        {
          "name": "stderr",
          "output_type": "stream",
          "text": [
            "WARNING:langchain_community.utils.user_agent:USER_AGENT environment variable not set, consider setting it to identify your requests.\n"
          ]
        }
      ],
      "source": [
        "base_url = \"https://www.mind.org.uk/information-support/types-of-mental-health-problems/\"\n",
        "html_content = await get_blog_urls(base_url)"
      ]
    },
    {
      "cell_type": "code",
      "execution_count": null,
      "metadata": {
        "id": "bnGwp5-mfjx_"
      },
      "outputs": [],
      "source": [
        "soup = BeautifulSoup(html_content, 'html.parser')\n",
        "hrefs = [a['href'] for a in soup.find_all('a', href=True)]\n",
        "filtered_urls = [href for href in hrefs if href.startswith('/information-support/types-of-mental-health-problems/')]\n",
        "filtered_urls=filtered_urls[1:]\n",
        "base_url = \"https://www.mind.org.uk\"\n",
        "mental_issue_urls = [base_url + url for url in filtered_urls]"
      ]
    },
    {
      "cell_type": "markdown",
      "metadata": {
        "id": "YnzFIoDQmIha"
      },
      "source": [
        "## Mental tips"
      ]
    },
    {
      "cell_type": "code",
      "execution_count": null,
      "metadata": {
        "colab": {
          "base_uri": "https://localhost:8080/"
        },
        "id": "hQpLQM3XmrzR",
        "outputId": "a3626f60-a503-4d56-f885-614ab0c97392"
      },
      "outputs": [
        {
          "name": "stderr",
          "output_type": "stream",
          "text": [
            "WARNING:langchain_community.utils.user_agent:USER_AGENT environment variable not set, consider setting it to identify your requests.\n"
          ]
        }
      ],
      "source": [
        "base_url=\"https://www.mind.org.uk/information-support/tips-for-everyday-living/\"\n",
        "html_content = await get_blog_urls(base_url)"
      ]
    },
    {
      "cell_type": "code",
      "execution_count": null,
      "metadata": {
        "id": "tAPATVVtmyIu"
      },
      "outputs": [],
      "source": [
        "soup = BeautifulSoup(html_content, 'html.parser')\n",
        "hrefs = [a['href'] for a in soup.find_all('a', href=True)]\n",
        "filtered_urls = [href for href in hrefs if href.startswith('/information-support/tips-for-everyday-living/')]\n",
        "filtered_urls=filtered_urls[1:]\n",
        "base_url = \"https://www.mind.org.uk\"\n",
        "tips_urls = [base_url + url for url in filtered_urls]"
      ]
    },
    {
      "cell_type": "markdown",
      "metadata": {
        "id": "dEh2WKmPnQfE"
      },
      "source": [
        "## Cleaning function"
      ]
    },
    {
      "cell_type": "code",
      "execution_count": 4,
      "metadata": {
        "id": "lHOSF9zOnSFb"
      },
      "outputs": [],
      "source": [
        "def clean_content(content):\n",
        "    # Step 1: Replace newline characters and non-breaking spaces\n",
        "    content = content.replace('\\n', '').replace('\\xa0', ' ')\n",
        "\n",
        "    # Step 2: Use regex to remove multiple spaces and strip extra spaces at the beginning and end\n",
        "    content = re.sub(r'\\s+', ' ', content).strip()\n",
        "\n",
        "    # Step 3: Remove everything starting from 'Post Views' until the end of the content\n",
        "    content = re.sub(r'Post Views:.*', '', content, flags=re.DOTALL)\n",
        "\n",
        "    return content"
      ]
    },
    {
      "cell_type": "markdown",
      "metadata": {
        "id": "jCtaF9x1tio2"
      },
      "source": [
        "## Dating Thai"
      ]
    },
    {
      "cell_type": "code",
      "execution_count": 5,
      "metadata": {
        "colab": {
          "base_uri": "https://localhost:8080/"
        },
        "id": "OA_zRKQi13BJ",
        "outputId": "4ca10408-a82a-4dda-ecee-42888822bb43"
      },
      "outputs": [
        {
          "name": "stderr",
          "output_type": "stream",
          "text": [
            "USER_AGENT environment variable not set, consider setting it to identify your requests.\n"
          ]
        },
        {
          "name": "stdout",
          "output_type": "stream",
          "text": [
            "The last page number is: 3\n"
          ]
        },
        {
          "name": "stderr",
          "output_type": "stream",
          "text": [
            "  0%|          | 0/3 [00:00<?, ?it/s]USER_AGENT environment variable not set, consider setting it to identify your requests.\n",
            " 33%|███▎      | 1/3 [00:01<00:02,  1.39s/it]USER_AGENT environment variable not set, consider setting it to identify your requests.\n",
            " 67%|██████▋   | 2/3 [00:02<00:01,  1.18s/it]USER_AGENT environment variable not set, consider setting it to identify your requests.\n",
            "100%|██████████| 3/3 [00:03<00:00,  1.13s/it]\n"
          ]
        }
      ],
      "source": [
        "#Find last page\n",
        "base_url=f\"https://www.alljitblog.com/category/จิตวิทยาชีวิตคู่/\"\n",
        "html_content = await get_blog_urls(base_url)\n",
        "soup = BeautifulSoup(html_content, 'html.parser')\n",
        "\n",
        "# Find the pagination section\n",
        "pagination = soup.find('div', class_='box-pagination')\n",
        "if pagination:\n",
        "    # Extract all page numbers from the pagination section\n",
        "    pages = pagination.find_all('a', class_='page-numbers')\n",
        "\n",
        "    # Convert to integers and find the largest number\n",
        "    last_page = max([int(page.text) for page in pages if page.text.isdigit()])\n",
        "\n",
        "    print(f\"The last page number is: {last_page}\")\n",
        "else:\n",
        "    print(\"Pagination not found.\")\n",
        "\n",
        "\n",
        "#Find all blog url\n",
        "dating_th_urls=[]\n",
        "for i in tqdm(range(1, last_page+1)):\n",
        "  base_url=f\"https://www.alljitblog.com/category/จิตวิทยาชีวิตคู่/page/{i}/\"\n",
        "  html_content = await get_blog_urls(base_url)\n",
        "  soup = BeautifulSoup(html_content, 'html.parser')\n",
        "  hrefs = [a['href'] for a in soup.find_all('a', href=True)]\n",
        "  filtered_urls = [href for href in hrefs if href.startswith('https://www.alljitblog.com/')]\n",
        "  filtered_urls=filtered_urls[1:]\n",
        "  filtered_urls= list(set(filtered_urls))\n",
        "  unwanted_substrings = ['?cat', '.com/#', '/author/admin-alljit/','/category/']\n",
        "  filtered_urls=[url for url in filtered_urls if not any(substring in url for substring in unwanted_substrings)]\n",
        "  dating_th_urls.extend(filtered_urls)\n",
        "\n",
        "\n",
        "dating_th_urls = list({urlparse(url).scheme + '://' + urlparse(url).netloc + urlparse(url).path for url in dating_th_urls})\n",
        "dating_th_urls.remove('https://www.alljitblog.com/')"
      ]
    },
    {
      "cell_type": "code",
      "execution_count": 6,
      "metadata": {
        "id": "B-rl2xd99tPi"
      },
      "outputs": [],
      "source": [
        "loader_multiple_pages = WebBaseLoader(dating_th_urls,encoding = 'utf-8')\n",
        "dating_data = loader_multiple_pages.load()\n",
        "for data in dating_data:\n",
        "  data.page_content = data.page_content.replace('\\n', '')\n",
        "  data.page_content = data.page_content.replace('\\xa0', ' ')\n",
        "  data.page_content = re.sub(r'\\s+', ' ', data.page_content).strip()\n",
        "  data.page_content = clean_content(data.page_content)"
      ]
    },
    {
      "cell_type": "markdown",
      "metadata": {
        "id": "A45qoBmsAlrb"
      },
      "source": [
        "## Psychiatrist Thai"
      ]
    },
    {
      "cell_type": "code",
      "execution_count": 7,
      "metadata": {
        "colab": {
          "base_uri": "https://localhost:8080/"
        },
        "id": "a9j3qREmA0uM",
        "outputId": "f124ac43-0a00-4cd7-db4c-c7d8f466a03d"
      },
      "outputs": [
        {
          "name": "stderr",
          "output_type": "stream",
          "text": [
            "USER_AGENT environment variable not set, consider setting it to identify your requests.\n"
          ]
        },
        {
          "name": "stdout",
          "output_type": "stream",
          "text": [
            "The last page number is: 2\n"
          ]
        },
        {
          "name": "stderr",
          "output_type": "stream",
          "text": [
            "  0%|          | 0/2 [00:00<?, ?it/s]USER_AGENT environment variable not set, consider setting it to identify your requests.\n",
            " 50%|█████     | 1/2 [00:01<00:01,  1.63s/it]USER_AGENT environment variable not set, consider setting it to identify your requests.\n",
            "100%|██████████| 2/2 [00:02<00:00,  1.41s/it]\n"
          ]
        }
      ],
      "source": [
        "#Find last page\n",
        "base_url=f\"https://www.alljitblog.com/category/psychiatrist/\"\n",
        "html_content = await get_blog_urls(base_url)\n",
        "soup = BeautifulSoup(html_content, 'html.parser')\n",
        "\n",
        "# Find the pagination section\n",
        "pagination = soup.find('div', class_='box-pagination')\n",
        "if pagination:\n",
        "    # Extract all page numbers from the pagination section\n",
        "    pages = pagination.find_all('a', class_='page-numbers')\n",
        "\n",
        "    # Convert to integers and find the largest number\n",
        "    last_page = max([int(page.text) for page in pages if page.text.isdigit()])\n",
        "\n",
        "    print(f\"The last page number is: {last_page}\")\n",
        "else:\n",
        "    print(\"Pagination not found.\")\n",
        "\n",
        "\n",
        "#Find all blog url\n",
        "psy_th_urls=[]\n",
        "for i in tqdm(range(1, last_page+1)):\n",
        "  base_url=f\"https://www.alljitblog.com/category/psychiatrist/page/{i}/\"\n",
        "  html_content = await get_blog_urls(base_url)\n",
        "  soup = BeautifulSoup(html_content, 'html.parser')\n",
        "  hrefs = [a['href'] for a in soup.find_all('a', href=True)]\n",
        "  filtered_urls = [href for href in hrefs if href.startswith('https://www.alljitblog.com/')]\n",
        "  filtered_urls=filtered_urls[1:]\n",
        "  filtered_urls= list(set(filtered_urls))\n",
        "  unwanted_substrings = ['?cat', '.com/#', '/author/admin-alljit/','/category/']\n",
        "  filtered_urls=[url for url in filtered_urls if not any(substring in url for substring in unwanted_substrings)]\n",
        "  psy_th_urls.extend(filtered_urls)\n",
        "\n",
        "psy_th_urls = list({urlparse(url).scheme + '://' + urlparse(url).netloc + urlparse(url).path for url in psy_th_urls})\n",
        "psy_th_urls.remove('https://www.alljitblog.com/')"
      ]
    },
    {
      "cell_type": "code",
      "execution_count": 8,
      "metadata": {
        "id": "CVYV5NKIAKUH"
      },
      "outputs": [],
      "source": [
        "loader_multiple_pages = WebBaseLoader(psy_th_urls,encoding = 'utf-8')\n",
        "psy_data = loader_multiple_pages.load()\n",
        "for data in psy_data:\n",
        "  data.page_content = data.page_content.replace('\\n', '')\n",
        "  data.page_content = data.page_content.replace('\\xa0', ' ')\n",
        "  data.page_content = re.sub(r'\\s+', ' ', data.page_content).strip()\n",
        "  data.page_content = clean_content(data.page_content)"
      ]
    },
    {
      "cell_type": "code",
      "execution_count": 9,
      "metadata": {
        "id": "okkyJhnfa3-a"
      },
      "outputs": [],
      "source": [
        "dating_data.extend(psy_data)"
      ]
    },
    {
      "cell_type": "code",
      "execution_count": 12,
      "metadata": {
        "id": "RRfvcikVbOO3"
      },
      "outputs": [],
      "source": [
        "from langchain_community.vectorstores import Chroma\n",
        "from langchain_google_genai import GoogleGenerativeAIEmbeddings\n",
        "from langchain_text_splitters import CharacterTextSplitter\n",
        "from langchain_community.document_loaders import DirectoryLoader\n",
        "from langchain_community.document_loaders import TextLoader\n",
        "from langchain.chains.combine_documents import create_stuff_documents_chain\n",
        "from langchain.chains import create_retrieval_chain\n",
        "from langchain_google_genai import (\n",
        "    ChatGoogleGenerativeAI,\n",
        "    HarmBlockThreshold,\n",
        "    HarmCategory,\n",
        ")\n",
        "from langchain_core.prompts import ChatPromptTemplate\n",
        "from langchain.chains import create_history_aware_retriever\n",
        "from langchain_core.prompts import MessagesPlaceholder\n",
        "from langchain_core.chat_history import BaseChatMessageHistory\n",
        "from langchain_core.runnables.history import RunnableWithMessageHistory\n",
        "from langchain_community.chat_message_histories import ChatMessageHistory\n",
        "from langchain.chains.query_constructor.base import AttributeInfo\n",
        "from langchain.retrievers.self_query.base import SelfQueryRetriever\n",
        "from langchain.chains import HypotheticalDocumentEmbedder\n",
        "from langchain_community.query_constructors.chroma import ChromaTranslator\n",
        "\n",
        "\n",
        "import re\n",
        "from tqdm import tqdm\n",
        "from langchain_openai import ChatOpenAI"
      ]
    },
    {
      "cell_type": "code",
      "execution_count": 13,
      "metadata": {
        "id": "M9XWXpQAbSnI"
      },
      "outputs": [],
      "source": [
        "api_key='xxxx'\n",
        "doc_embeddings = GoogleGenerativeAIEmbeddings(\n",
        "    model=\"models/embedding-001\", task_type=\"retrieval_document\",google_api_key=api_key\n",
        ")\n",
        "llm = ChatGoogleGenerativeAI(\n",
        "    model=\"gemini-1.5-flash\",\n",
        "    safety_settings={\n",
        "        HarmCategory.HARM_CATEGORY_DANGEROUS_CONTENT: HarmBlockThreshold.BLOCK_NONE,\n",
        "    },\n",
        "    google_api_key=api_key,\n",
        ")"
      ]
    },
    {
      "cell_type": "code",
      "execution_count": 1,
      "metadata": {
        "colab": {
          "base_uri": "https://localhost:8080/"
        },
        "id": "0vvjLAlXy4sB",
        "outputId": "a615354b-5a1f-4bbd-c367-70f3b73c7ce5"
      },
      "outputs": [],
      "source": [
        "import getpass\n",
        "import os\n",
        "\n",
        "if not os.environ.get(\"OPENAI_API_KEY\"):\n",
        "    os.environ[\"OPENAI_API_KEY\"] = getpass.getpass(\"Enter your OpenAI API key: \")"
      ]
    },
    {
      "cell_type": "code",
      "execution_count": 16,
      "metadata": {
        "id": "eplaz2J9ylIb"
      },
      "outputs": [],
      "source": [
        "llm = ChatOpenAI(\n",
        "    model=\"gpt-4o-mini\",\n",
        "    temperature=0,\n",
        "    max_tokens=None,\n",
        "    timeout=None,\n",
        "    max_retries=2,\n",
        ")"
      ]
    },
    {
      "cell_type": "code",
      "execution_count": 14,
      "metadata": {
        "id": "To2lDMx1bYyI"
      },
      "outputs": [],
      "source": [
        "embeddings = HypotheticalDocumentEmbedder.from_llm(llm, doc_embeddings, \"web_search\")"
      ]
    },
    {
      "cell_type": "code",
      "execution_count": 16,
      "metadata": {
        "id": "9ZjramCVbbbq"
      },
      "outputs": [],
      "source": [
        "vector_store = Chroma.from_documents(dating_data,\n",
        "                                    embeddings,\n",
        "                                    collection_name=\"relationship\",\n",
        "                                    persist_directory='vector_stores')"
      ]
    },
    {
      "cell_type": "code",
      "execution_count": 19,
      "metadata": {
        "id": "qSsgvo33b3Dk"
      },
      "outputs": [],
      "source": [
        "retriever=vector_store.as_retriever(search_type='mmr', search_kwargs={\"k\": 2})"
      ]
    },
    {
      "cell_type": "code",
      "execution_count": 20,
      "metadata": {
        "id": "ksuZ_nSGckfl"
      },
      "outputs": [],
      "source": [
        "system_prompt = '''\n",
        "You are a relationship advisor chatbot. Your role is to provide thoughtful, empathetic, and actionable advice to users based on the given context. You will receive a variable `{context}` that provides important information about the user's situation or emotional state. When responding:\n",
        "\n",
        "1. **Empathy First**: Always approach each situation with understanding, compassion, and without judgment, considering the emotional tone provided in `{context}`.\n",
        "2. **Tailor Responses**: Use the details in `{context}` to customize your advice. Whether the user is feeling hurt, confused, or happy, adjust your tone and suggestions accordingly.\n",
        "3. **Balanced Advice**: Provide balanced perspectives, considering both emotional and practical aspects of relationship dynamics. Always factor in the specific details of `{context}`.\n",
        "4. **Clarity**: Keep responses clear, concise, and free from jargon. Ensure your advice is actionable and suited to the user's situation as described in `{context}`.\n",
        "5. **Non-Biased**: Avoid taking sides in conflicts; instead, focus on encouraging healthy communication, mutual respect, and personal growth. Be sensitive to any biases or specific issues mentioned in `{context}`.\n",
        "6. **Emotionally Supportive**: Be positive, uplifting, and sensitive to the emotions involved in the conversation, as described in `{context}`.\n",
        "7. **Encourage Communication**: When appropriate, remind users of the importance of open and honest communication with their partners, adjusting advice based on their specific needs from `{context}`.\n",
        "8. **Resource Suggestion**: In cases where external help might be useful (such as therapy or professional consultation), gently suggest these resources, especially if `{context}` suggests a need for deeper intervention.\n",
        "\n",
        "You should be respectful of all types of relationships and inclusive of different genders, orientations, and cultural backgrounds. Always adapt your tone to the user's emotional state, as indicated by `{context}`, providing comfort and support where necessary.\n",
        "'''\n"
      ]
    },
    {
      "cell_type": "code",
      "execution_count": 21,
      "metadata": {
        "id": "e-bw2YkMcp7Q"
      },
      "outputs": [],
      "source": [
        "prompt = ChatPromptTemplate.from_messages(\n",
        "    [\n",
        "        (\"system\", system_prompt),\n",
        "        (\"human\", \"{input}\"),\n",
        "    ]\n",
        ")\n",
        "\n",
        "question_answer_chain = create_stuff_documents_chain(llm, prompt)\n",
        "rag_chain = create_retrieval_chain(retriever, question_answer_chain)"
      ]
    },
    {
      "cell_type": "code",
      "execution_count": 22,
      "metadata": {
        "id": "_FXWskyActJx"
      },
      "outputs": [],
      "source": [
        "contextualize_q_system_prompt = (\n",
        "    \"Given a chat history and the latest user question \"\n",
        "    \"which might reference context in the chat history, \"\n",
        "    \"formulate a standalone question which can be understood \"\n",
        "    \"without the chat history. Do NOT answer the question, \"\n",
        "    \"just reformulate it if needed and otherwise return it as is.\"\n",
        ")\n",
        "\n",
        "contextualize_q_prompt = ChatPromptTemplate.from_messages(\n",
        "    [\n",
        "        (\"system\", contextualize_q_system_prompt),\n",
        "        MessagesPlaceholder(\"chat_history\"),\n",
        "        (\"human\", \"{input}\"),\n",
        "    ]\n",
        ")\n",
        "history_aware_retriever = create_history_aware_retriever(\n",
        "    llm, retriever, contextualize_q_prompt\n",
        ")"
      ]
    },
    {
      "cell_type": "code",
      "execution_count": 23,
      "metadata": {
        "id": "b3zD4kcncvbm"
      },
      "outputs": [],
      "source": [
        "qa_prompt = ChatPromptTemplate.from_messages(\n",
        "    [\n",
        "        (\"system\", system_prompt),\n",
        "        MessagesPlaceholder(\"chat_history\"),\n",
        "        (\"human\", \"{input}\"),\n",
        "    ]\n",
        ")\n",
        "\n",
        "\n",
        "question_answer_chain = create_stuff_documents_chain(llm, qa_prompt)\n",
        "\n",
        "rag_chain = create_retrieval_chain(history_aware_retriever, question_answer_chain)"
      ]
    },
    {
      "cell_type": "code",
      "execution_count": 24,
      "metadata": {
        "id": "S8fY-QMvcxXC"
      },
      "outputs": [],
      "source": [
        "store = {}\n",
        "\n",
        "\n",
        "def get_session_history(session_id: str) -> BaseChatMessageHistory:\n",
        "    if session_id not in store:\n",
        "        store[session_id] = ChatMessageHistory()\n",
        "    return store[session_id]\n",
        "\n",
        "\n",
        "conversational_rag_chain = RunnableWithMessageHistory(\n",
        "    rag_chain,\n",
        "    get_session_history,\n",
        "    input_messages_key=\"input\",\n",
        "    history_messages_key=\"chat_history\",\n",
        "    output_messages_key=\"answer\",\n",
        ")"
      ]
    },
    {
      "cell_type": "code",
      "execution_count": 30,
      "metadata": {
        "id": "Pk6q5Vv90Krq"
      },
      "outputs": [],
      "source": [
        "from langfuse.callback import CallbackHandler\n",
        "langfuse_handler = CallbackHandler(\n",
        "    public_key=\"pk-lf-243fb455-4133-42b7-8a1d-c9b9b36940bb\",\n",
        "    secret_key=\"sk-lf-dc23288b-e32f-4c02-b552-c748e4f2471e\",\n",
        "    host=\"http://localhost:3000\"\n",
        ")"
      ]
    },
    {
      "cell_type": "code",
      "execution_count": 31,
      "metadata": {
        "colab": {
          "base_uri": "https://localhost:8080/"
        },
        "id": "j85IdLSncy60",
        "outputId": "9b244f69-c45f-4df0-a139-2198422e94d7"
      },
      "outputs": [
        {
          "name": "stderr",
          "output_type": "stream",
          "text": [
            "ERROR:langfuse:Unexpected error occurred. Please check your request and contact support: https://langfuse.com/support.\n",
            "ERROR:langfuse:Unexpected error occurred. Please check your request and contact support: https://langfuse.com/support.\n",
            "ERROR:langfuse:Unexpected error occurred. Please check your request and contact support: https://langfuse.com/support.\n",
            "ERROR:langfuse:Unexpected error occurred. Please check your request and contact support: https://langfuse.com/support.\n"
          ]
        },
        {
          "name": "stdout",
          "output_type": "stream",
          "text": [
            "ดูเหมือนว่าคุณอาจจะรู้สึกไม่สบายใจหรือไม่พอใจกับสถานการณ์นี้ ถ้าคุณต้องการพูดคุยหรือแชร์ความรู้สึกเพิ่มเติม ฉันยินดีที่จะฟังและช่วยเหลือค่ะ คุณสามารถบอกได้เลยว่าคุณรู้สึกอย่างไร หรือมีอะไรที่อยากจะพูดคุยเพิ่มเติมไหมคะ?\n"
          ]
        }
      ],
      "source": [
        "print(conversational_rag_chain.invoke(\n",
        "    {\"input\": \"xxx\"},\n",
        "    config={\n",
        "        \"configurable\": {\"session_id\": \"abc\"},\n",
        "        \"callbacks\": [langfuse_handler]\n",
        "    },\n",
        ")['answer'])"
      ]
    }
  ],
  "metadata": {
    "colab": {
      "provenance": []
    },
    "kernelspec": {
      "display_name": "Python 3",
      "name": "python3"
    },
    "language_info": {
      "codemirror_mode": {
        "name": "ipython",
        "version": 3
      },
      "file_extension": ".py",
      "mimetype": "text/x-python",
      "name": "python",
      "nbconvert_exporter": "python",
      "pygments_lexer": "ipython3",
      "version": "3.11.4"
    }
  },
  "nbformat": 4,
  "nbformat_minor": 0
}
